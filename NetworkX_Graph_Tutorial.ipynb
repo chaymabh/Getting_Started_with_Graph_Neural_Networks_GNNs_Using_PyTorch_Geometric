{
  "nbformat": 4,
  "nbformat_minor": 0,
  "metadata": {
    "colab": {
      "name": "Graphs_with_ NetworkX.ipynb",
      "provenance": []
    },
    "kernelspec": {
      "name": "python3",
      "display_name": "Python 3"
    },
    "language_info": {
      "name": "python"
    }
  },
  "cells": [
    {
      "cell_type": "markdown",
      "source": [
        "NetworkX is one of the most frequently used Python packages to create, manipulate, and mine graphs. In this code i'mdoing some basic graph manipulations using NetworkX only\n",
        "\n",
        "https://networkx.org/documentation/stable/install.html"
      ],
      "metadata": {
        "id": "-ovG00SGR97f"
      }
    },
    {
      "cell_type": "code",
      "source": [
        "# Import the NetworkX package\n",
        "import networkx as nx"
      ],
      "metadata": {
        "id": "68JTHE5HSDGh"
      },
      "execution_count": 1,
      "outputs": []
    },
    {
      "cell_type": "markdown",
      "source": [
        "* Create some simple graphs\n",
        "\n",
        "\n",
        "\n"
      ],
      "metadata": {
        "id": "LDoEngxSS1-K"
      }
    },
    {
      "cell_type": "code",
      "source": [
        "# Create an undirected graph G\n",
        "G = nx.Graph()\n",
        "# Test if Graph is directed\n",
        "print(G.is_directed())\n",
        "\n",
        "# Create a directed graph H\n",
        "H = nx.DiGraph()\n",
        "\n",
        "# Test if Graph is directed\n",
        "print(H.is_directed())\n",
        "\n",
        "# Add graph level attribute\n",
        "G.graph[\"Name\"] = \"Test0\"\n",
        "print(G.graph)"
      ],
      "metadata": {
        "colab": {
          "base_uri": "https://localhost:8080/"
        },
        "id": "ruMneGYJS2Ug",
        "outputId": "45d2aa6c-d4fa-4bdd-c011-3b4131713b49"
      },
      "execution_count": 5,
      "outputs": [
        {
          "output_type": "stream",
          "name": "stdout",
          "text": [
            "False\n",
            "True\n",
            "{'Name': 'Test0'}\n"
          ]
        }
      ]
    },
    {
      "cell_type": "markdown",
      "source": [
        " \n",
        "*   Add Nodes ( to undirected graph )\n",
        "\n",
        "\n",
        "\n",
        "\n",
        "\n",
        "\n"
      ],
      "metadata": {
        "id": "S0NT1nsGUwkR"
      }
    },
    {
      "cell_type": "code",
      "source": [
        "# Add one node with node level attributes \n",
        "G.add_node(0, feature=5, label=0)\n",
        "\n",
        "# Get attributes of the node 0\n",
        "print(\"Node 0 has the attributes {}\".format(G.nodes[0]))\n",
        "\n",
        "# Add multiple nodes with attributes\n",
        "G.add_nodes_from([\n",
        "  (1, {\"feature\": 1, \"label\": 1}),\n",
        "  (2, {\"feature\": 2, \"label\": 2})\n",
        "]) \n",
        "\n",
        "# Get all the nodes\n",
        "# Set data=True to return node attributes\n",
        "for node in G.nodes(data=True):\n",
        "  print(node)\n",
        "\n",
        "# Get number of nodes\n",
        "num_nodes = G.number_of_nodes()\n",
        "print(\"G has {} nodes\".format(num_nodes))\n"
      ],
      "metadata": {
        "colab": {
          "base_uri": "https://localhost:8080/"
        },
        "id": "sQyVuDMQVHuo",
        "outputId": "09914576-5d21-487e-bdb2-071fba9c0c48"
      },
      "execution_count": 24,
      "outputs": [
        {
          "output_type": "stream",
          "name": "stdout",
          "text": [
            "Node 0 has the attributes {'feature': 5, 'label': 0}\n",
            "(0, {'feature': 5, 'label': 0})\n",
            "(1, {'feature': 1, 'label': 1})\n",
            "(2, {'feature': 2, 'label': 2})\n",
            "G has 3 nodes\n"
          ]
        }
      ]
    },
    {
      "cell_type": "markdown",
      "source": [
        "*  Add Edges  ( to undirected graph )"
      ],
      "metadata": {
        "id": "E1PxVWPTYmaT"
      }
    },
    {
      "cell_type": "code",
      "source": [
        "# Add multiple edges with edge weights between Nodes\n",
        "G.add_edges_from([\n",
        "  (1, 2, {\"weight\": 0.3}),\n",
        "  (2, 0, {\"weight\": 0.1}),\n",
        "  (2, 2, {\"weight\": 0.5}),\n",
        "  (1, 0, {\"weight\": 0.1})\n",
        "])\n",
        "\n",
        "# Get all the edges\n",
        "for edge in G.edges(data=True):\n",
        "  print(edge)\n",
        "\n",
        "# Get number of edges\n",
        "num_edges = G.number_of_edges()\n",
        "print(\"G has {} edges\".format(num_edges))\n"
      ],
      "metadata": {
        "colab": {
          "base_uri": "https://localhost:8080/"
        },
        "id": "gtj0TzdiYqiJ",
        "outputId": "8541e476-4279-4684-9a50-2c30dafc88b4"
      },
      "execution_count": 13,
      "outputs": [
        {
          "output_type": "stream",
          "name": "stdout",
          "text": [
            "(0, 2, {'weight': 0.1})\n",
            "(0, 1, {'weight': 0.1})\n",
            "(1, 2, {'weight': 0.3})\n",
            "(2, 2, {'weight': 0.5})\n",
            "G has 4 edges\n"
          ]
        }
      ]
    },
    {
      "cell_type": "markdown",
      "source": [
        "* Node degree and neighbor"
      ],
      "metadata": {
        "id": "Mzc2w_oue-Hd"
      }
    },
    {
      "cell_type": "code",
      "source": [
        "# Get degree of node 1\n",
        "node_id = 1\n",
        "print(\"Node {} has degree {}\".format(node_id, G.degree[node_id]))\n",
        "\n",
        "# Get neighbor of node 1\n",
        "for neighbor in G.neighbors(node_id):\n",
        "  print(\"Node {} has neighbor {}\".format(node_id, neighbor))"
      ],
      "metadata": {
        "colab": {
          "base_uri": "https://localhost:8080/"
        },
        "id": "FmLgEmAifDxU",
        "outputId": "46f66469-92cb-44af-af92-429c54ee3b23"
      },
      "execution_count": 23,
      "outputs": [
        {
          "output_type": "stream",
          "name": "stdout",
          "text": [
            "Node 1 has degree 2\n",
            "Node 1 has neighbor 2\n",
            "Node 1 has neighbor 0\n"
          ]
        }
      ]
    },
    {
      "cell_type": "markdown",
      "source": [
        "* Visualise the graph"
      ],
      "metadata": {
        "id": "tWhN_aawZY_2"
      }
    },
    {
      "cell_type": "code",
      "source": [
        "# Draw the graph\n",
        "nx.draw(G, with_labels = True)\n"
      ],
      "metadata": {
        "colab": {
          "base_uri": "https://localhost:8080/",
          "height": 319
        },
        "id": "hcVOYVZNZ8Es",
        "outputId": "8f228faa-d545-425d-ad00-fb631b3330d2"
      },
      "execution_count": 19,
      "outputs": [
        {
          "output_type": "display_data",
          "data": {
            "text/plain": [
              "<Figure size 432x288 with 1 Axes>"
            ],
            "image/png": "[encoded data removed]"
          },
          "metadata": {}
        }
      ]
    },
    {
      "cell_type": "markdown",
      "source": [
        "* Now do the same to directed Graph :"
      ],
      "metadata": {
        "id": "q3c6dL-da8eM"
      }
    },
    {
      "cell_type": "code",
      "source": [
        "# Add one node with node level attributes \n",
        "H.add_node(0, feature=5, label=0)\n",
        "\n",
        "# Get attributes of the node 0\n",
        "print(\"Node 0 has the attributes {}\".format(H.nodes[0]))\n",
        "\n",
        "# Add multiple nodes with attributes\n",
        "H.add_nodes_from([\n",
        "  (1, {\"feature\": 1, \"label\": 1}),\n",
        "  (2, {\"feature\": 2, \"label\": 2})\n",
        "]) \n",
        "\n",
        "# Get all the nodes\n",
        "# Set data=True to return node attributes\n",
        "for node in H.nodes(data=True):\n",
        "  print(node)\n",
        "\n",
        "# Get number of nodes\n",
        "num_nodes = H.number_of_nodes()\n",
        "print(\"H has {} nodes\".format(num_nodes))\n",
        "\n",
        "# Add multiple edges with edge weights between Nodes\n",
        "H.add_edges_from([\n",
        "  (1, 2, {\"weight\": 0.3}),\n",
        "  (2, 1, {\"weight\": 0.1}),\n",
        "  (2, 2, {\"weight\": 0.5}),\n",
        "  (0, 1, {\"weight\": 0.1}),\n",
        "  (0, 2, {\"weight\": 0.2 })\n",
        "])\n",
        "\n",
        "# Get all the edges\n",
        "for edge in H.edges(data=True):\n",
        "  print(edge)\n",
        "\n",
        "# Get number of edges\n",
        "num_edges = G.number_of_edges()\n",
        "print(\"G has {} edges\".format(num_edges))\n",
        "\n",
        "nx.draw(H, with_labels=True)\n",
        "\n",
        "# Get degree of node 1\n",
        "node_id = 1\n",
        "print(\"Node {} has degree {}\".format(node_id, H.degree[node_id]))\n",
        "\n",
        "# Get neighbor of node 1\n",
        "for neighbor in H.neighbors(node_id):\n",
        "  print(\"Node {} has neighbor {}\".format(node_id, neighbor))\n"
      ],
      "metadata": {
        "colab": {
          "base_uri": "https://localhost:8080/",
          "height": 597
        },
        "id": "YvQwPitCbDAC",
        "outputId": "841cc466-674c-4d48-d0ce-30c5d3f492a7"
      },
      "execution_count": 45,
      "outputs": [
        {
          "output_type": "stream",
          "name": "stdout",
          "text": [
            "Node 0 has the attributes {'feature': 5, 'label': 0}\n",
            "(0, {'feature': 5, 'label': 0})\n",
            "(1, {'feature': 1, 'label': 1})\n",
            "(2, {'feature': 2, 'label': 2})\n",
            "H has 3 nodes\n",
            "(0, 1, {'weight': 0.1})\n",
            "(0, 2, {'weight': 0.2})\n",
            "(1, 2, {'weight': 0.3})\n",
            "(1, 0, {'weight': 0.1})\n",
            "(2, 0, {'weight': 0.1})\n",
            "(2, 2, {'weight': 0.5})\n",
            "(2, 1, {'weight': 0.1})\n",
            "G has 4 edges\n",
            "Node 1 has degree 4\n",
            "Node 1 has neighbor 2\n",
            "Node 1 has neighbor 0\n"
          ]
        },
        {
          "output_type": "display_data",
          "data": {
            "text/plain": [
              "<Figure size 432x288 with 1 Axes>"
            ],
            "image/png": "[encoded data removed]"
          },
          "metadata": {}
        }
      ]
    },
    {
      "cell_type": "markdown",
      "source": [
        "* Nodes successors and neighbors"
      ],
      "metadata": {
        "id": "0pnIFRagfcr1"
      }
    },
    {
      "cell_type": "code",
      "source": [
        "node_id_0 = 0\n",
        "print(\"Node {} has out degrees {}\".format(node_id_0, list(H.successors(node_id_0))))\n"
      ],
      "metadata": {
        "colab": {
          "base_uri": "https://localhost:8080/"
        },
        "id": "8WtYOex6fhsw",
        "outputId": "7a3bd537-7049-47b8-8519-50e7e50cca26"
      },
      "execution_count": 46,
      "outputs": [
        {
          "output_type": "stream",
          "name": "stdout",
          "text": [
            "Node 0 has out degrees [1, 2]\n"
          ]
        }
      ]
    },
    {
      "cell_type": "markdown",
      "source": [
        "* Nodes neighbors"
      ],
      "metadata": {
        "id": "-bHcVtD9gaZH"
      }
    },
    {
      "cell_type": "code",
      "source": [
        "print(\"Node {} neighbors are {}\".format(node_id_0, list(H.neighbors(node_id_0))))"
      ],
      "metadata": {
        "colab": {
          "base_uri": "https://localhost:8080/"
        },
        "id": "sC8qhFxiggQh",
        "outputId": "ea6e9536-1645-4c75-b987-bffc331b6702"
      },
      "execution_count": 47,
      "outputs": [
        {
          "output_type": "stream",
          "name": "stdout",
          "text": [
            "Node 0 neighbors are [1, 2]\n"
          ]
        }
      ]
    }
  ]
}
